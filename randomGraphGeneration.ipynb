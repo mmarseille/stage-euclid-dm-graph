{
 "cells": [
  {
   "cell_type": "markdown",
   "id": "structured-supply",
   "metadata": {},
   "source": [
    "# Génération de graphes\n",
    "\n",
    "Ce notebook sert à générer des graphes aléatoires de taille et probabilité donnée, et fournit également le début d'un algorithme pouvant générer un arbre en Neo4J, de taille et nombre de fils maximum donnés"
   ]
  },
  {
   "cell_type": "code",
   "execution_count": null,
   "id": "loaded-postcard",
   "metadata": {},
   "outputs": [],
   "source": [
    "from neo4j import GraphDatabase"
   ]
  },
  {
   "cell_type": "code",
   "execution_count": null,
   "id": "based-meter",
   "metadata": {},
   "outputs": [],
   "source": [
    "import numpy as np\n",
    "import pickle as pkl\n",
    "from scipy.sparse import csgraph, csr_matrix\n",
    "from random import random, randrange, seed"
   ]
  },
  {
   "cell_type": "markdown",
   "id": "quick-throw",
   "metadata": {},
   "source": [
    "#### Base Euclid"
   ]
  },
  {
   "cell_type": "code",
   "execution_count": null,
   "id": "primary-course",
   "metadata": {},
   "outputs": [],
   "source": [
    "driver = GraphDatabase.driver(\"bolt://localhost:7687\", auth=(\"neo4j\",\"euclid\"))"
   ]
  },
  {
   "cell_type": "markdown",
   "id": "alternative-processor",
   "metadata": {},
   "source": [
    "#### Base Test"
   ]
  },
  {
   "cell_type": "code",
   "execution_count": null,
   "id": "indirect-adams",
   "metadata": {},
   "outputs": [],
   "source": [
    "driver = GraphDatabase.driver(\"bolt://localhost:11003\", auth=(\"neo4j\",\"0\"))"
   ]
  },
  {
   "cell_type": "markdown",
   "id": "combined-anthony",
   "metadata": {},
   "source": [
    "----------"
   ]
  },
  {
   "cell_type": "code",
   "execution_count": null,
   "id": "boolean-functionality",
   "metadata": {},
   "outputs": [],
   "source": [
    "session = driver.session()"
   ]
  },
  {
   "cell_type": "markdown",
   "id": "cardiac-minneapolis",
   "metadata": {},
   "source": [
    "---------"
   ]
  },
  {
   "cell_type": "markdown",
   "id": "prerequisite-desperate",
   "metadata": {},
   "source": [
    "### Génération de graphes aléatoires"
   ]
  },
  {
   "cell_type": "code",
   "execution_count": null,
   "id": "loved-advancement",
   "metadata": {},
   "outputs": [],
   "source": [
    "def generate_graph_script(nb_noeuds, rand_th=0.2):\n",
    "    \"\"\"\n",
    "    Génère le script de génération du graphe aléatoire\n",
    "    \"\"\"\n",
    "    with open(f\"random_graph{nb_noeuds}.cypher\", \"w\") as out:\n",
    "        #Création des noeuds\n",
    "        for i in range(1,nb_noeuds+1):\n",
    "            out.write(f'CREATE (n{i}:Node{{name:\"n{i}\"}})\\n')\n",
    "            \n",
    "        #Création des relations\n",
    "        for n1 in range(1,nb_noeuds+1):\n",
    "            for n2 in range(n1+1, nb_noeuds+1):\n",
    "                r = random()\n",
    "                poids = 0\n",
    "                if r <= rand_th:\n",
    "                    poids = round(random(),3)\n",
    "                    out.write(f'CREATE (n{n1})-[:LINKED_TO{{poids:{poids}}}]->(n{n2})\\n')\n",
    "                #print(f'n{n1}', f'n{n2}', r, poids)\n",
    "        out.write(\";\")"
   ]
  },
  {
   "cell_type": "code",
   "execution_count": null,
   "id": "private-contrast",
   "metadata": {},
   "outputs": [],
   "source": [
    "def generate_graph(nb_noeuds, rand_th=0.2):\n",
    "    \"\"\"\n",
    "    Génère le graphe aléatoire directement dans Neo4J\n",
    "    \"\"\"\n",
    "    #Suppression des noeuds et relations déjà présentes dans la base\n",
    "    session.run(\"MATCH (n) DETACH DELETE n\")\n",
    "    \n",
    "    script = \"\"\n",
    "\n",
    "    #Création des noeuds\n",
    "    for i in range(1,nb_noeuds+1):\n",
    "        script += f'CREATE (n{i}:Node{{name:\"n{i}\"}})\\n'\n",
    "\n",
    "    #Création des relations\n",
    "    for n1 in range(1,nb_noeuds+1):\n",
    "        for n2 in range(n1+1, nb_noeuds+1):\n",
    "            r = random()\n",
    "            poids = 0\n",
    "            if r <= rand_th:\n",
    "                poids = round(random(),3)\n",
    "                script += f'CREATE (n{n1})-[:LINKED_TO{{poids:{poids}}}]->(n{n2})\\n'\n",
    "\n",
    "    script += \";\"\n",
    "\n",
    "    #Exécution du script au lieu d'une simple sauvegarde\n",
    "    session.run(script)\n"
   ]
  },
  {
   "cell_type": "code",
   "execution_count": null,
   "id": "weighted-spider",
   "metadata": {},
   "outputs": [],
   "source": [
    "def generate_adj(nb_noeuds,rand_th=0.2):   \n",
    "    \"\"\"\n",
    "    Génère la matrice d'adjacence d'un graphe aléatoire\n",
    "    sans avoir à générer le graphe lui-même\n",
    "    \"\"\"\n",
    "    #Initialisation de la matrice\n",
    "    Ax = np.zeros((nb_noeuds, nb_noeuds))\n",
    "    \n",
    "    #Création des relations\n",
    "    for n1 in range(nb_noeuds):\n",
    "        for n2 in range(n1+1, nb_noeuds):\n",
    "            r = random()\n",
    "            poids = 0\n",
    "            if r <= rand_th:\n",
    "                poids = round(random(),3)\n",
    "                \n",
    "                #ici, Relation non orientée\n",
    "                Ax[n1,n2] = poids\n",
    "                Ax[n2,n1] = poids\n",
    "                \n",
    "    return Ax"
   ]
  },
  {
   "cell_type": "markdown",
   "id": "minimal-looking",
   "metadata": {},
   "source": [
    "-------"
   ]
  },
  {
   "cell_type": "markdown",
   "id": "excessive-dealer",
   "metadata": {},
   "source": [
    "### Génération d'arbres"
   ]
  },
  {
   "cell_type": "code",
   "execution_count": null,
   "id": "naughty-prediction",
   "metadata": {},
   "outputs": [],
   "source": [
    "def generate_arbre(nb_noeuds, max_fils, nb_attr):\n",
    "    \"\"\"\n",
    "    Génère un graphe sous forme d'arbre directement dans Neo4J (profondeur pas implémentée)\n",
    "    \"\"\"\n",
    "    \n",
    "    #Suppression des noeuds et relations déjà présents sur la base\n",
    "    session.run(\"MATCH (n) DETACH DELETE n\")\n",
    "    \n",
    "    script = \"\"\n",
    "    \n",
    "    #Liste de tous les noeuds\n",
    "    noeuds = np.arange(1,nb_noeuds)\n",
    "    \n",
    "    #Le noeud 0 est le premier noeud de l'arborescence\n",
    "    lvl = [0]\n",
    "    \n",
    "    fils = dict()\n",
    "    \n",
    "    #Création des noeuds avec un nombre donné de paramètres aléatoires\n",
    "    for i in range(nb_noeuds):\n",
    "        random_attrs = [f\"x{i_attr}:{random()}\" for i_attr in range(nb_attr)]\n",
    "        script += f\"CREATE (n{i}:Node{{name:'n{i}',{','.join(random_attrs)}}})\\n\"\n",
    "\n",
    "    while len(noeuds) != 0:\n",
    "        #print(f\"NB NOEUDS: {len(noeuds)}\\n\")\n",
    "        for node in lvl:\n",
    "            #print(f'FILS DE {node}')\n",
    "            \n",
    "            #On choisit entre 1 et max_fils noeuds comme fils de node\n",
    "            sample = np.random.choice(noeuds,randrange(1,1+min(len(noeuds), max_fils)),replace=False)\n",
    "            #print(sample)\n",
    "            \n",
    "            #On enlève les noeuds du sample de la liste de noeuds\n",
    "            noeuds = noeuds[np.isin(noeuds, sample, invert=True)]\n",
    "            #print(noeuds)\n",
    "            \n",
    "            \n",
    "            for val in sample:\n",
    "                script += f\"CREATE (n{val})-[:CHILD_OF]->(n{node})\\n\"\n",
    "\n",
    "            lvl = sample\n",
    "            fils[node] = sample\n",
    "\n",
    "            if len(noeuds) == 0:\n",
    "                break\n",
    "    script += \";\"\n",
    "    \n",
    "    session.run(script)"
   ]
  },
  {
   "cell_type": "code",
   "execution_count": null,
   "id": "distinct-auction",
   "metadata": {},
   "outputs": [],
   "source": [
    "def generate_arbre_script(nb_noeuds, max_fils, nb_attr):\n",
    "    \"\"\"\n",
    "    Crée le script pour la génération d'un arbre en Neo4J (profondeur pas implémentée)\n",
    "    \"\"\"\n",
    "    \n",
    "    #Liste des noeuds\n",
    "    noeuds = np.arange(1,nb_noeuds)\n",
    "    \n",
    "    #Le noeud 0 est le premier noeud de l'arborescence\n",
    "    lvl = [0]\n",
    "    \n",
    "    fils = dict()\n",
    "    \n",
    "    with open(f'treeGraph{nb_noeuds}_{max_fils}.cypher','w') as out:\n",
    "        #Création des noeuds avec un nombre donné de paramètres aléatoires\n",
    "        for i in range(nb_noeuds):\n",
    "            random_attrs = [f\"x{i_attr}:{random()}\" for i_attr in range(nb_attr)]\n",
    "            out.write(f\"CREATE (n{i}:Node{{name:'n{i}',{','.join(random_attrs)}}})\\n\")\n",
    "            \n",
    "        while len(noeuds) != 0:\n",
    "            #print(f\"NB NOEUDS: {len(noeuds)}\\n\")\n",
    "            for node in lvl:\n",
    "                #print(f'FILS DE {node}')\n",
    "                \n",
    "                #On choisit entre 1 et max_fils noeuds comme fils de node\n",
    "                sample = np.random.choice(noeuds,randrange(1,1+min(len(noeuds), max_fils)),replace=False)\n",
    "                #print(sample)\n",
    "                \n",
    "                #On enlève les noeuds du sample de la liste de noeuds\n",
    "                noeuds = noeuds[np.isin(noeuds, sample, invert=True)]\n",
    "                #print(noeuds)\n",
    "                \n",
    "                for val in sample:\n",
    "                    out.write(f\"CREATE (n{val})-[:CHILD_OF]->(n{node})\\n\") \n",
    "\n",
    "                lvl = sample\n",
    "                fils[node] = sample\n",
    "\n",
    "                if len(noeuds) == 0:\n",
    "                    break\n",
    "        out.write(\";\")"
   ]
  },
  {
   "cell_type": "code",
   "execution_count": null,
   "id": "instrumental-sunday",
   "metadata": {},
   "outputs": [],
   "source": [
    "def generate_arbre_adj(nb_noeuds, max_fils): \n",
    "    \"\"\"\n",
    "    Génère la matrice d'adjacence de l'arbre (profondeur pas implémentée)\n",
    "    \"\"\"\n",
    "    At = np.zeros((nb_noeuds, nb_noeuds))\n",
    "    noeuds = np.arange(1,nb_noeuds)\n",
    "    \n",
    "    lvl = [0]\n",
    "    \n",
    "    fils = dict()\n",
    "    \n",
    "    while len(noeuds) != 0:\n",
    "        for node in lvl:\n",
    "            sample = np.random.choice(noeuds,randrange(1,1+min(len(noeuds), max_fils)),replace=False)\n",
    "            noeuds = noeuds[np.isin(noeuds, sample, invert=True)]\n",
    "\n",
    "            #Les relations entre les fils et leur père sont mises à 1\n",
    "            At[node][sample] = 1    \n",
    "            \n",
    "            lvl = sample\n",
    "            fils[node] = sample\n",
    "            \n",
    "            if len(noeuds) == 0:\n",
    "                break\n",
    "    \n",
    "    return csr_matrix(At+At.T)"
   ]
  },
  {
   "cell_type": "markdown",
   "id": "extreme-ceiling",
   "metadata": {},
   "source": [
    "### Test de performance"
   ]
  },
  {
   "cell_type": "code",
   "execution_count": null,
   "id": "decreased-cache",
   "metadata": {},
   "outputs": [],
   "source": [
    "from time import time\n",
    "\n",
    "start = time()\n",
    "generate_graph(200)\n",
    "print(f\"Execution time: {time()-start:.2f}s\")"
   ]
  },
  {
   "cell_type": "code",
   "execution_count": null,
   "id": "precise-rabbit",
   "metadata": {},
   "outputs": [],
   "source": [
    "start = time()\n",
    "generate_adj(200)\n",
    "print(f\"Execution time: {time()-start:.2f}s\")"
   ]
  },
  {
   "cell_type": "code",
   "execution_count": null,
   "id": "higher-channels",
   "metadata": {},
   "outputs": [],
   "source": [
    "start = time()\n",
    "generate_arbre_adj(200,5)\n",
    "print(f\"Execution time: {time()-start:.2f}s\")"
   ]
  },
  {
   "cell_type": "markdown",
   "id": "informative-december",
   "metadata": {},
   "source": [
    "Générer simplement la matrice d'adjacence logiquement énormément plus rapide"
   ]
  },
  {
   "cell_type": "markdown",
   "id": "pregnant-orbit",
   "metadata": {},
   "source": [
    "-----------"
   ]
  },
  {
   "cell_type": "markdown",
   "id": "breeding-refund",
   "metadata": {},
   "source": [
    "## Calculs"
   ]
  },
  {
   "cell_type": "code",
   "execution_count": null,
   "id": "pretty-candy",
   "metadata": {},
   "outputs": [],
   "source": [
    "def remove_names_NS(node_names, namespaces):\n",
    "    \"\"\"\n",
    "    Fonction pour retirer dans la requête les noeuds du namespace\n",
    "    qui commencent par les chaînes contenues dans la liste\n",
    "    \"\"\"\n",
    "    out_cond = \"\"\n",
    "    \n",
    "    if namespaces:\n",
    "        out_cond = 'NOT ('\n",
    "        out_cond += \") AND NOT (\".join(\" OR \".join(f'{node_name}.fullname =~ \"{ns}.*\"' for ns in namespaces) for node_name in node_names)\n",
    "        out_cond += ')'\n",
    "        \n",
    "    return out_cond"
   ]
  },
  {
   "cell_type": "markdown",
   "id": "great-phenomenon",
   "metadata": {},
   "source": [
    " Namespaces à enlever selon la version :\n",
    " \n",
    "* V1 -> Aucune restriction\n",
    "* V2 -> Pas de namespace lié à la DPD\n",
    "* V3 -> V2 + pas de namespace lié à PRO\n",
    "* V4 -> V3 + pas de namespace lié à INTERFACES"
   ]
  },
  {
   "cell_type": "code",
   "execution_count": null,
   "id": "paperback-hopkins",
   "metadata": {},
   "outputs": [],
   "source": [
    "nodeType, relType, version, use_weights = \"Type\", \"USE_TYPE\", \"V4\", True"
   ]
  },
  {
   "cell_type": "code",
   "execution_count": null,
   "id": "southern-determination",
   "metadata": {},
   "outputs": [],
   "source": [
    "str_weight = 'W' if use_weights and relType in  {'USE_NS', 'USE_TYPE'} else ''\n",
    "graph_suffix = f\"{relType}{version}{str_weight}\""
   ]
  },
  {
   "cell_type": "code",
   "execution_count": null,
   "id": "processed-yugoslavia",
   "metadata": {},
   "outputs": [],
   "source": [
    "type_same_ns = False\n",
    "\n",
    "cond = \"\"\n",
    "\n",
    "if version == \"V1\":\n",
    "    remove_ns = []\n",
    "elif version == \"V2\":\n",
    "    remove_ns = ['dpd']\n",
    "elif version == \"V3\":\n",
    "    remove_ns = ['dpd','pro']\n",
    "elif version == \"V4\":\n",
    "    remove_ns = ['dpd','pro','interfaces']\n",
    "    \n",
    "if version not in {\"V0\",\"V1\"}:\n",
    "    if nodeType == 'Type':\n",
    "        nodeNames = ['ns'] if type_same_ns else ['ns','ns2'] \n",
    "    else:\n",
    "        nodeNames = ['n1','n2']\n",
    "    \n",
    "    cond = f\"WHERE {remove_names_NS(nodeNames,remove_ns)}\""
   ]
  },
  {
   "cell_type": "code",
   "execution_count": null,
   "id": "expected-ceiling",
   "metadata": {},
   "outputs": [],
   "source": [
    "def query_start(d=\"\",same_ns=True):\n",
    "    \"\"\"\n",
    "    Génère le début de la requête Cypher\n",
    "    \n",
    "    d: string pour donner la direction de la relation\n",
    "    same_ns: indique si les noeuds doivent faire partie du même namespace\n",
    "    \n",
    "    q: le début de requête\n",
    "    \"\"\"\n",
    "    q = f'(n1:{nodeType}){\"<-\" if d == \"l\" else \"-\"}[r:{relType}]{\"->\" if d == \"r\" else \"-\"}(n2:{nodeType})'  \n",
    "    \n",
    "    if nodeType == \"Type\":\n",
    "        q = f\"(ns:Namespace)<-[:DECLARED_IN]-{q}-[:DECLARED_IN]->({'ns' if same_ns else 'ns2:Namespace'})\"\n",
    "        \n",
    "    q = f'MATCH {q} {cond}'\n",
    "    \n",
    "    return q"
   ]
  },
  {
   "cell_type": "code",
   "execution_count": null,
   "id": "original-elements",
   "metadata": {},
   "outputs": [],
   "source": [
    "query_start(same_ns=type_same_ns)"
   ]
  },
  {
   "cell_type": "markdown",
   "id": "young-petersburg",
   "metadata": {},
   "source": [
    "### Silhouette et inertie"
   ]
  },
  {
   "cell_type": "code",
   "execution_count": null,
   "id": "activated-canberra",
   "metadata": {},
   "outputs": [],
   "source": [
    "from sklearn.cluster import KMeans\n",
    "from sklearn.metrics import silhouette_score"
   ]
  },
  {
   "cell_type": "code",
   "execution_count": null,
   "id": "uniform-uruguay",
   "metadata": {},
   "outputs": [],
   "source": [
    "if nodeType == \"Type\":\n",
    "    #Certains types n'ont pas de relations associées donc on ne peut pas juste\n",
    "    #faire un COUNT sur les types avec la relation\n",
    "    q_nbnoeuds_total = session.run(f\"MATCH (n1:{nodeType})-[:DECLARED_IN]->(n:Namespace) WHERE {remove_names_NS(['n'],remove_ns)} RETURN COUNT(DISTINCT n1) AS nb\")\n",
    "else:\n",
    "    q_nbnoeuds_total = session.run(f\"{query_start(same_ns=type_same_ns)} RETURN COUNT(DISTINCT n1) AS nb\")\n",
    "    \n",
    "q_nbnoeuds = session.run(f\"{query_start(same_ns=type_same_ns)} RETURN COUNT(DISTINCT n1) AS nb\")\n",
    "q_nbaretes = session.run(f\"{query_start(same_ns=type_same_ns)} RETURN COUNT(DISTINCT r) AS nb\")"
   ]
  },
  {
   "cell_type": "markdown",
   "id": "offshore-asset",
   "metadata": {},
   "source": [
    "#### Résultats de la requête"
   ]
  },
  {
   "cell_type": "code",
   "execution_count": null,
   "id": "sharp-ballet",
   "metadata": {},
   "outputs": [],
   "source": [
    "for res in q_nbnoeuds_total: nbnoeudstotal = res[\"nb\"]\n",
    "for res in q_nbnoeuds: nbnoeuds = res[\"nb\"]\n",
    "for res in q_nbaretes: nbaretes = res[\"nb\"]"
   ]
  },
  {
   "cell_type": "code",
   "execution_count": null,
   "id": "obvious-quantum",
   "metadata": {},
   "outputs": [],
   "source": [
    "n = nbnoeuds\n",
    "\n",
    "#Coefficient de connexité du graphe\n",
    "r = (2*nbaretes)/(nbnoeudstotal*(nbnoeudstotal-1))"
   ]
  },
  {
   "cell_type": "code",
   "execution_count": null,
   "id": "living-tackle",
   "metadata": {
    "scrolled": true
   },
   "outputs": [],
   "source": [
    "print(nbnoeudstotal, nbnoeuds, nbaretes, r)"
   ]
  },
  {
   "cell_type": "markdown",
   "id": "rolled-brooklyn",
   "metadata": {},
   "source": [
    "#### Calcul des mesures pour les graphes aléatoires "
   ]
  },
  {
   "cell_type": "code",
   "execution_count": null,
   "id": "invalid-skirt",
   "metadata": {
    "scrolled": true
   },
   "outputs": [],
   "source": [
    "nb_graphes = 50\n",
    "nb_iter = 2\n",
    "max_k = min(n,81)\n",
    "\n",
    "inertias = []\n",
    "silhs = []\n",
    "vpRand = []\n",
    "\n",
    "for nb_g in range(nb_graphes):\n",
    "    if (nb_g+1) % 5 == 0 or (nb_g+1) == nb_graphes: \n",
    "        print(\"=\"*30)\n",
    "        print(f\"GRAPHE {nb_g+1}/{nb_graphes}\")\n",
    "        print(\"=\"*30)\n",
    "        \n",
    "    #Calcul des valeurs propres pour le partitionnement\n",
    "    vp_norm, vectp_norm = np.linalg.eigh(csgraph.laplacian(generate_adj(n), normed=True))\n",
    "    \n",
    "    #La version utilisant le coefficient n'a donné de bons résultats,\n",
    "    #elle n'est donc plus utilisée ici\n",
    "    #vp_norm, vectp_norm = np.linalg.eigh(csgraph.laplacian(generate_adj(n,r), normed=True))\n",
    "    \n",
    "    vpRand.append(vp_norm)\n",
    "    \n",
    "    #Moyenne de n itérations de calculs différents de KMeans de 2 à 80 max\n",
    "    for i in range(nb_iter):\n",
    "        print(f\"ITERATION {i+1}/{nb_iter}\")\n",
    "        inertia = []\n",
    "        silh = []\n",
    "        for k in range(2,max_k):\n",
    "            if k%10 == 0 or k == max_k-1 : print(f\"{k}/{max_k-1}\")\n",
    "            kmeans = KMeans(n_clusters=k).fit(vectp_norm[:,:k])\n",
    "            inertia.append(kmeans.inertia_)\n",
    "            silh.append(silhouette_score(vectp_norm[:,:k], kmeans.labels_))\n",
    "        inertias.append(inertia)\n",
    "        silhs.append(silh)\n",
    "    print(\"-\"*20)\n",
    "\n",
    "avg_inertia = np.array(inertias).mean(0)\n",
    "avg_silh = np.array(silhs).mean(0)\n",
    "avg_vp = np.array(vpRand).mean(0)"
   ]
  },
  {
   "cell_type": "markdown",
   "id": "narrative-aerospace",
   "metadata": {},
   "source": [
    "#### Sauvegarde des résultats"
   ]
  },
  {
   "cell_type": "code",
   "execution_count": null,
   "id": "julian-craft",
   "metadata": {},
   "outputs": [],
   "source": [
    "pkl.dump(avg_inertia, open(f\"randInertia{graph_suffix}.pkl\",\"wb\"))\n",
    "pkl.dump(avg_silh, open(f\"randSilh{graph_suffix}.pkl\",\"wb\"))\n",
    "pkl.dump(avg_vp, open(f\"randVp{graph_suffix}.pkl\",\"wb\"))"
   ]
  },
  {
   "cell_type": "markdown",
   "id": "bibliographic-cabinet",
   "metadata": {},
   "source": [
    "-----"
   ]
  },
  {
   "cell_type": "markdown",
   "id": "forty-oasis",
   "metadata": {},
   "source": [
    "### Affichage des résultats"
   ]
  },
  {
   "cell_type": "code",
   "execution_count": null,
   "id": "published-struggle",
   "metadata": {},
   "outputs": [],
   "source": [
    "import matplotlib.pyplot as plt\n",
    "plt.rcParams['figure.figsize'] = (15,10)"
   ]
  },
  {
   "cell_type": "markdown",
   "id": "terminal-adapter",
   "metadata": {},
   "source": [
    "#### Inertie"
   ]
  },
  {
   "cell_type": "code",
   "execution_count": null,
   "id": "statistical-associate",
   "metadata": {},
   "outputs": [],
   "source": [
    "plt.scatter(range(2,avg_inertia.shape[0]+2), avg_inertia)"
   ]
  },
  {
   "cell_type": "markdown",
   "id": "criminal-implement",
   "metadata": {},
   "source": [
    "#### Silhouette"
   ]
  },
  {
   "cell_type": "code",
   "execution_count": null,
   "id": "color-toolbox",
   "metadata": {},
   "outputs": [],
   "source": [
    "plt.scatter(range(2,avg_silh.shape[0]+2), avg_silh)"
   ]
  }
 ],
 "metadata": {
  "kernelspec": {
   "display_name": "Python 3",
   "language": "python",
   "name": "python3"
  },
  "language_info": {
   "codemirror_mode": {
    "name": "ipython",
    "version": 3
   },
   "file_extension": ".py",
   "mimetype": "text/x-python",
   "name": "python",
   "nbconvert_exporter": "python",
   "pygments_lexer": "ipython3",
   "version": "3.6.9"
  }
 },
 "nbformat": 4,
 "nbformat_minor": 5
}
