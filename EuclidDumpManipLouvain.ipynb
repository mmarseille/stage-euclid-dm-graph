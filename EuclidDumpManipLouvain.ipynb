{
 "cells": [
  {
   "cell_type": "markdown",
   "id": "modern-conference",
   "metadata": {},
   "source": [
    "# Manipulation des données de la base Neo4J d'Euclid\n",
    "Ce notebook a pour but d'extraire les données Neo4J du projet Euclid (ou d'une base de données test), et d'y appliquer un algorithme de clustering.\n",
    "\n",
    "#### Ici, nous utilisons comme méthode de clustering la *méthode Louvain*."
   ]
  },
  {
   "cell_type": "code",
   "execution_count": 1,
   "id": "regional-parker",
   "metadata": {},
   "outputs": [],
   "source": [
    "from IPython.display import SVG\n",
    "\n",
    "import numpy as np\n",
    "import pickle as pkl\n",
    "\n",
    "from neo4j import GraphDatabase\n",
    "\n",
    "from sknetwork.clustering import Louvain, modularity\n",
    "from sknetwork.visualization import svg_digraph"
   ]
  },
  {
   "cell_type": "code",
   "execution_count": 2,
   "id": "frank-bicycle",
   "metadata": {},
   "outputs": [],
   "source": [
    "def remove_names_NS(node_names, namespaces):\n",
    "    \"\"\"\n",
    "    Fonction pour retirer dans la requête les noeuds du namespace\n",
    "    qui commencent par les chaînes contenues dans la liste\n",
    "    \"\"\"\n",
    "    out_cond = 'NOT ('\n",
    "    out_cond += \") AND NOT (\".join(\" OR \".join(f'{node_name}.fullname =~ \"{ns}.*\"' for ns in namespaces) for node_name in node_names)\n",
    "    out_cond += ')'\n",
    "    \n",
    "    return out_cond"
   ]
  },
  {
   "cell_type": "markdown",
   "id": "independent-andorra",
   "metadata": {},
   "source": [
    "### Si test "
   ]
  },
  {
   "cell_type": "code",
   "execution_count": null,
   "id": "existing-legislature",
   "metadata": {},
   "outputs": [],
   "source": [
    "nodeType, relType, version, use_weights = \"Node\", \"LINKED_TO\", \"V1\", False"
   ]
  },
  {
   "cell_type": "markdown",
   "id": "romantic-cambodia",
   "metadata": {},
   "source": [
    "### Sinon "
   ]
  },
  {
   "cell_type": "code",
   "execution_count": 3,
   "id": "coordinated-stewart",
   "metadata": {},
   "outputs": [],
   "source": [
    "#Type des noeuds et des relations du sous-graphe voulu\n",
    "nodeType, relType = \"Type\", \"USE_TYPE\"\n",
    "\n",
    "#Si on veut combiner des relations (CONTAINS et USE_NS par exemple)\n",
    "#nodeType = \"CONTAINS|USE_NS\"\n",
    "\n",
    "#Utilisation de poids, sinon une relation vaut 1\n",
    "#Le sous-graphe avec la relation CONTAINS est un arbre, on ne sert donc pas de la variable pour elle\n",
    "use_weights = True\n",
    "\n",
    "version = \"V1\""
   ]
  },
  {
   "cell_type": "markdown",
   "id": "prospective-cedar",
   "metadata": {},
   "source": [
    " Namespaces à enlever selon la version :\n",
    " \n",
    "* V1 -> Aucune restriction\n",
    "* V2 -> Pas de namespace lié à la DPD\n",
    "* V3 -> V2 + pas de namespace lié à PRO\n",
    "* V4 -> V3 + pas de namespace lié à INTERFACES"
   ]
  },
  {
   "cell_type": "code",
   "execution_count": 4,
   "id": "sorted-startup",
   "metadata": {},
   "outputs": [],
   "source": [
    "str_weight = 'W' if use_weights and relType in  {'USE_NS', 'USE_TYPE'} else ''"
   ]
  },
  {
   "cell_type": "code",
   "execution_count": 5,
   "id": "worldwide-enlargement",
   "metadata": {},
   "outputs": [],
   "source": [
    "#True si les types viennent d'un même namespace\n",
    "#False sinon\n",
    "type_same_ns = False\n",
    "\n",
    "cond = \"\"\n",
    "\n",
    "if version == \"V1\":\n",
    "    remove_ns = []\n",
    "elif version == \"V2\":\n",
    "    remove_ns = ['dpd']\n",
    "elif version == \"V3\":\n",
    "    remove_ns = ['dpd','pro']\n",
    "elif version == \"V4\":\n",
    "    remove_ns = ['dpd','pro','interfaces']\n",
    "    \n",
    "if version not in {\"V0\",\"V1\"}:\n",
    "    if nodeType == 'Type':\n",
    "        nodeNames = ['ns'] if type_same_ns else ['ns','ns2'] \n",
    "    else:\n",
    "        nodeNames = ['n1','n2']\n",
    "    \n",
    "    cond = f\"WHERE {remove_names_NS(nodeNames,remove_ns)}\""
   ]
  },
  {
   "cell_type": "code",
   "execution_count": 6,
   "id": "retained-literature",
   "metadata": {},
   "outputs": [],
   "source": [
    "def query_start(d=\"\",same_ns=True):\n",
    "    \"\"\"\n",
    "    Décrit le début de la requête Cypher sur le sous-graphe Neo4J désiré\n",
    "    \n",
    "    d: Direction de la relation\n",
    "    same_ns: indique si les noeuds de type Type doivent faire partie du même namespace\n",
    "    \"\"\"\n",
    "    q = f'(n1:{nodeType}){\"<-\" if d == \"l\" else \"-\"}[r:{relType}]{\"->\" if d == \"r\" else \"-\"}(n2:{nodeType})'  \n",
    "    \n",
    "    if nodeType == \"Type\":\n",
    "        q = f\"(ns:Namespace)<-[:DECLARED_IN]-{q}-[:DECLARED_IN]->({'ns' if same_ns else 'ns2:Namespace'})\"\n",
    "        \n",
    "    q = f'MATCH {q} {cond}'\n",
    "    \n",
    "    return q"
   ]
  },
  {
   "cell_type": "code",
   "execution_count": 7,
   "id": "graphic-robert",
   "metadata": {},
   "outputs": [],
   "source": [
    "#Nom du paramètre de poids selon la relation\n",
    "q_poids = lambda: \"n_times\" if relType == \"USE_TYPE\" else \"nb_use\"\n",
    "\n",
    "#Nom du paramètre de nom selon la relation\n",
    "q_name = lambda: \"fullname\" if nodeType == \"Namespace\" else \"name\"\n",
    "\n",
    "#Sous forme de fonction lambda pour pouvoir changer facilement de relations"
   ]
  },
  {
   "cell_type": "code",
   "execution_count": 8,
   "id": "endless-compatibility",
   "metadata": {},
   "outputs": [
    {
     "data": {
      "text/plain": [
       "('MATCH (ns:Namespace)<-[:DECLARED_IN]-(n1:Type)-[r:USE_TYPE]-(n2:Type)-[:DECLARED_IN]->(ns2:Namespace) ',\n",
       " 'n_times',\n",
       " 'name',\n",
       " '')"
      ]
     },
     "execution_count": 8,
     "metadata": {},
     "output_type": "execute_result"
    }
   ],
   "source": [
    "query_start(same_ns=type_same_ns), q_poids(), q_name(), cond"
   ]
  },
  {
   "cell_type": "markdown",
   "id": "excessive-psychiatry",
   "metadata": {},
   "source": [
    "### Base Euclid"
   ]
  },
  {
   "cell_type": "code",
   "execution_count": 9,
   "id": "extreme-mississippi",
   "metadata": {},
   "outputs": [],
   "source": [
    "driver = GraphDatabase.driver(\"bolt://localhost:7687\", auth=(\"neo4j\",\"euclid\"))\n",
    "session = driver.session()"
   ]
  },
  {
   "cell_type": "markdown",
   "id": "optical-refund",
   "metadata": {},
   "source": [
    "##### Requête pour obtenir le nombre de noeuds du graphe (ne compte pas les noeuds liés à aucune relation)"
   ]
  },
  {
   "cell_type": "code",
   "execution_count": 10,
   "id": "casual-draft",
   "metadata": {},
   "outputs": [],
   "source": [
    "query_nbnoeuds = f'{query_start(same_ns=type_same_ns)} RETURN COUNT(DISTINCT n1) as nb'"
   ]
  },
  {
   "cell_type": "markdown",
   "id": "decent-steel",
   "metadata": {},
   "source": [
    "### Base de test"
   ]
  },
  {
   "cell_type": "code",
   "execution_count": null,
   "id": "fewer-drunk",
   "metadata": {},
   "outputs": [],
   "source": [
    "driverTest = GraphDatabase.driver(\"bolt://localhost:11005\", auth=(\"neo4j\",\"0\"))\n",
    "session = driverTest.session()"
   ]
  },
  {
   "cell_type": "markdown",
   "id": "danish-dutch",
   "metadata": {},
   "source": [
    "##### Requête pour obtenir le nombre de noeuds du graphe (ne compte pas les noeuds liés à aucune relation)"
   ]
  },
  {
   "cell_type": "code",
   "execution_count": null,
   "id": "challenging-democracy",
   "metadata": {},
   "outputs": [],
   "source": [
    "query_nbnoeuds = \"MATCH (:Node) RETURN COUNT(*) as nb\""
   ]
  },
  {
   "cell_type": "markdown",
   "id": "institutional-combining",
   "metadata": {},
   "source": [
    "-------------"
   ]
  },
  {
   "cell_type": "markdown",
   "id": "considerable-italian",
   "metadata": {},
   "source": [
    "#### Nombre de noeuds\n",
    "Ne compte pas les noeuds qui ne sont pas liés par une relation `relType`"
   ]
  },
  {
   "cell_type": "code",
   "execution_count": null,
   "id": "turkish-plumbing",
   "metadata": {
    "scrolled": true
   },
   "outputs": [],
   "source": [
    "res = session.run(query_nbnoeuds)\n",
    "for r in res: nbnoeuds = r[\"nb\"]"
   ]
  },
  {
   "cell_type": "code",
   "execution_count": null,
   "id": "interesting-award",
   "metadata": {},
   "outputs": [],
   "source": [
    "nbnoeuds"
   ]
  },
  {
   "cell_type": "markdown",
   "id": "smart-scratch",
   "metadata": {},
   "source": [
    "------------------"
   ]
  },
  {
   "cell_type": "markdown",
   "id": "greenhouse-concept",
   "metadata": {},
   "source": [
    "#### Récupération du poids maximal de la relation concernée"
   ]
  },
  {
   "cell_type": "code",
   "execution_count": null,
   "id": "dangerous-bennett",
   "metadata": {},
   "outputs": [],
   "source": [
    "query = f'{query_start(same_ns=type_same_ns)} RETURN MAX(TOINTEGER(r.{q_poids()})) AS max_poids'\n",
    "res = session.run(query)"
   ]
  },
  {
   "cell_type": "code",
   "execution_count": null,
   "id": "settled-theme",
   "metadata": {},
   "outputs": [],
   "source": [
    "for r in res: max_poids = r['max_poids']"
   ]
  },
  {
   "cell_type": "code",
   "execution_count": null,
   "id": "balanced-harvard",
   "metadata": {},
   "outputs": [],
   "source": [
    "max_poids"
   ]
  },
  {
   "cell_type": "markdown",
   "id": "loving-beads",
   "metadata": {},
   "source": [
    "### Calcul de la matrice laplacienne L"
   ]
  },
  {
   "cell_type": "code",
   "execution_count": null,
   "id": "driving-payroll",
   "metadata": {},
   "outputs": [],
   "source": [
    "ids_dict = dict()\n",
    "\n",
    "def new_node_id(id):\n",
    "    \"\"\"\n",
    "    Fonction pour générer de nouveaux IDs\n",
    "    \"\"\"\n",
    "    id_num = len(ids_dict)\n",
    "    if id not in ids_dict:\n",
    "        ids_dict[id] = id_num\n",
    "        id_num += 1\n",
    "    return ids_dict[id]\n",
    "\n",
    "def calc_A(query,use_weights=False,norm=True):\n",
    "    \"\"\"\n",
    "    Calcule la matrice laplacienne L et retourne aussi\n",
    "    les matrices des degrés D et la matrice d'adjacence A\n",
    "    mise à jour lors du calcul\n",
    "    \"\"\"\n",
    "    A = np.zeros((nbnoeuds,nbnoeuds))\n",
    "\n",
    "    res = session.run(query)\n",
    "    i=0\n",
    "    for r in res:\n",
    "        id1, id2 = new_node_id(r[\"id1\"]), new_node_id(r[\"id2\"])\n",
    "\n",
    "        if use_weights and relType in {\"USE_NS\",\"USE_TYPE\"}:\n",
    "            poids = (r[\"poids\"]*(0.1 if r['opt'] == \"yes\" else 1)+1)/(max_poids+1)\n",
    "        else:\n",
    "            poids = 1\n",
    "\n",
    "        #Ajout dans la matrice d'adjacence\n",
    "        A[id1,id2] = poids\n",
    "        i += 1\n",
    "        \n",
    "\n",
    "    #On travaille sur le graphe orienté\n",
    "    #la matrice n'est donc pas symétrique\n",
    "    assert not np.array_equal(A,A.T)\n",
    "    \n",
    "    return A"
   ]
  },
  {
   "cell_type": "markdown",
   "id": "impressed-polish",
   "metadata": {},
   "source": [
    "----------"
   ]
  },
  {
   "cell_type": "markdown",
   "id": "universal-chick",
   "metadata": {},
   "source": [
    "#### Calcul de la matrice d'adjacence "
   ]
  },
  {
   "cell_type": "code",
   "execution_count": null,
   "id": "negative-johnston",
   "metadata": {
    "scrolled": false
   },
   "outputs": [],
   "source": [
    "query = f'{query_start(\"r\",type_same_ns)} RETURN ID(n1) AS id1, ID(n2) AS id2, TOINTEGER(r.{q_poids()}) AS poids, r.optional as opt'\n",
    "A = calc_A(query,use_weights=True)"
   ]
  },
  {
   "cell_type": "markdown",
   "id": "right-specific",
   "metadata": {},
   "source": [
    "#### Tentative de combinaison des résultats des relations **USE_NS** et **CONTAINS**"
   ]
  },
  {
   "cell_type": "code",
   "execution_count": null,
   "id": "front-seller",
   "metadata": {},
   "outputs": [],
   "source": [
    "relType = \"USE_NS\"\n",
    "query = f'{query_start(\"r\",type_same_ns)} RETURN ID(n1) AS id1, ID(n2) AS id2, TOINTEGER(r.{q_poids()}) AS poids, r.optional as opt'\n",
    "A = calc_A(query,use_weights=True)\n",
    "\n",
    "relType = \"CONTAINS\"\n",
    "query = f'{query_start(same_ns=type_same_ns)} RETURN ID(n1) AS id1, ID(n2) AS id2, TOINTEGER(r.{q_poids()}) AS poids'\n",
    "A2 = calc_A(query)"
   ]
  },
  {
   "cell_type": "code",
   "execution_count": null,
   "id": "saved-queens",
   "metadata": {},
   "outputs": [],
   "source": [
    "wA = 0.75\n",
    "wA2 = 1-wA\n",
    "\n",
    "A = wA*A + wA2*A2"
   ]
  },
  {
   "cell_type": "markdown",
   "id": "balanced-samuel",
   "metadata": {},
   "source": [
    "------------"
   ]
  },
  {
   "cell_type": "markdown",
   "id": "commercial-closure",
   "metadata": {},
   "source": [
    "# Utilisation de la méthode Louvain "
   ]
  },
  {
   "cell_type": "code",
   "execution_count": null,
   "id": "atomic-tracker",
   "metadata": {},
   "outputs": [],
   "source": [
    "louvain = Louvain().fit(A)"
   ]
  },
  {
   "cell_type": "code",
   "execution_count": null,
   "id": "written-peeing",
   "metadata": {},
   "outputs": [],
   "source": [
    "modularity(A,louvain.labels_)"
   ]
  },
  {
   "cell_type": "code",
   "execution_count": null,
   "id": "center-practice",
   "metadata": {},
   "outputs": [],
   "source": [
    "np.unique(louvain.labels_).shape[0] #Nb de clusters"
   ]
  },
  {
   "cell_type": "markdown",
   "id": "contrary-contamination",
   "metadata": {},
   "source": [
    "#### Représentation graphique du graphe et des clusters"
   ]
  },
  {
   "cell_type": "code",
   "execution_count": null,
   "id": "removed-combining",
   "metadata": {
    "scrolled": true
   },
   "outputs": [],
   "source": [
    "SVG(svg_digraph(A,labels=louvain.labels_))"
   ]
  },
  {
   "cell_type": "markdown",
   "id": "precious-winner",
   "metadata": {},
   "source": [
    "# Génération de graphes pour la visualisation des clusters"
   ]
  },
  {
   "cell_type": "code",
   "execution_count": null,
   "id": "smooth-cleaning",
   "metadata": {},
   "outputs": [],
   "source": [
    "def graphViz(A, nodeType=\"Node\", relType=\"LINKED_TO\", version=\"V1\", use_weights=False):\n",
    "    \"\"\"\n",
    "    Crée le script d'un graphe permettant de visualiser les différents clusters donnés \n",
    "    par la méthode Louvain\n",
    "    \"\"\"\n",
    "    \n",
    "    louvain = Louvain().fit(A)\n",
    "    \n",
    "    with open(f\"L{relType}{version}{str_weight}.cypher\",\"w\") as out:\n",
    "        #Récupération des ids et noms de tous les noeuds\n",
    "        nodeQuery = f\"\"\"\n",
    "        {query_start(same_ns=type_same_ns)} RETURN DISTINCT ID(n1) AS idNode, n1.{q_name()} AS nodeName\n",
    "        \"\"\"\n",
    "        nodes = session.run(nodeQuery)\n",
    "\n",
    "\n",
    "        for i,node in enumerate(nodes):\n",
    "            idNode, nodeName = new_node_id(node[\"idNode\"]), node[\"nodeName\"]\n",
    "            cluster_label = louvain.labels_[idNode]\n",
    "            \n",
    "            #Chaque noeud a pour type le label du cluster qui lui a été attribué par le clustering\n",
    "            out.write(f'CREATE (n{idNode+1}:Cluster{cluster_label+1}{{name:\"{nodeName}\"}})\\n')\n",
    "\n",
    "        relationQuery = f\"\"\"\n",
    "        {query_start(\"r\",type_same_ns)} RETURN ID(n1) AS id1, ID(n2) AS id2, TOINTEGER(r.{q_poids()}) AS poids, r.optional AS opt\n",
    "        \"\"\"\n",
    "        relations = session.run(relationQuery)\n",
    "\n",
    "        #On recrée les relations entre les noeuds\n",
    "        for relation in relations:\n",
    "            id1, id2 = new_node_id(relation[\"id1\"]), new_node_id(relation[\"id2\"])\n",
    "            cluster_label = louvain.labels_[id1]\n",
    "            #print(id1+1, id2+1)\n",
    "            if relType in {\"USE_NS\",\"USE_TYPE\"} and use_weights:\n",
    "                w = (relation[\"poids\"]*(0.1 if relation[\"opt\"] == \"yes\" else 1)+1)/(max_poids+1)\n",
    "                out.write(f'CREATE (n{id1+1})-[:{relType}{{poids:{round(w,3)}}}]->(n{id2+1})\\n')\n",
    "            else:\n",
    "                out.write(f'CREATE (n{id1+1})-[:{relType}]->(n{id2+1})\\n')\n",
    "        out.write(\";\")"
   ]
  },
  {
   "cell_type": "code",
   "execution_count": null,
   "id": "friendly-trustee",
   "metadata": {},
   "outputs": [],
   "source": [
    "def graphVizAbstract(A, nodeType=\"Node\", relType=\"LINKED_TO\", version=\"V1\", use_weights=False):\n",
    "    \"\"\"\n",
    "    Crée le script d'un graphe pour visualiser le clustering obtenu \n",
    "    avec la méthode Louvain de manière plus abstraite\n",
    "    \"\"\"\n",
    "    \n",
    "    louvain = Louvain().fit(A)\n",
    "    k = np.unique(louvain.labels_).shape[0]\n",
    "    \n",
    "    \n",
    "    A_k = np.zeros((k,k))\n",
    "    \n",
    "    names_per_cluster = {i+1:[] for i in np.unique(louvain.labels_)}\n",
    "\n",
    "    id_counter = 0\n",
    "    \n",
    "\n",
    "    \n",
    "    with open(f\"L{relType}Abs{version}{str_weight}.cypher\",\"w\") as out:\n",
    "        #Récupération des ids et noms de tous les noeuds\n",
    "        nodeQuery = f'{query_start(same_ns=type_same_ns)} RETURN DISTINCT ID(n1) AS idNode, n1.{q_name()} AS nodeName'\n",
    "        nodes = session.run(nodeQuery)\n",
    "        \n",
    "        for node in nodes:\n",
    "            idNode, nodeName = new_node_id(node[\"idNode\"]), node[\"nodeName\"]\n",
    "            label = louvain.labels_[idNode]\n",
    "            names_per_cluster[label+1].append(nodeName)\n",
    "\n",
    "        #Récupération des relations avec leur poids et son optionalité si présents\n",
    "        relationQuery = f\"\"\"\n",
    "        {query_start(\"r\",type_same_ns)} RETURN ID(n1) AS id1, ID(n2) AS id2, TOINTEGER(r.{q_poids()}) AS poids, r.optional AS opt\n",
    "        \"\"\"\n",
    "        relations = session.run(relationQuery)\n",
    "\n",
    "        #Calcul de la matrice d'adjacence entre clusters\n",
    "        for relation in relations:\n",
    "            id1, id2 = new_node_id(relation[\"id1\"]), new_node_id(relation[\"id2\"])\n",
    "            label1, label2 = louvain.labels_[id1], louvain.labels_[id2]\n",
    "            if label1 != label2: #On ne compte que les relations entre noeuds de clusters différents\n",
    "                if relType in {\"USE_NS\",\"USE_TYPE\"} and use_weights:\n",
    "                    A_k[label1,label2] += (relation[\"poids\"]*(1 if relation['opt'] == \"no\" else 0.1)+1)/(max_poids+1)\n",
    "                else:\n",
    "                    A_k[label1,label2] += 1\n",
    "\n",
    "        #Création des noeuds\n",
    "        for i in range(k):\n",
    "            out.write(f'CREATE (n{i+1}:Cluster{i+1}{{name:\"C{i+1}\",names:{names_per_cluster[i+1]}, nbNoeuds:{len(names_per_cluster[i+1])}}})\\n')\n",
    "\n",
    "        #Création des relations entre clusters\n",
    "        for ci,cluster in enumerate(A_k):\n",
    "            for i,w in enumerate(cluster):\n",
    "                #print(i+1, w)\n",
    "                if w != 0:\n",
    "                    out.write(f'CREATE (n{ci+1})-[:{relType}{{poids:{round(w,3)})}}]->(n{i+1})\\n')\n",
    "\n",
    "        out.write(\";\")\n",
    "        #print(A_k)\n",
    "        #print(names_per_cluster)\n",
    "    "
   ]
  },
  {
   "cell_type": "code",
   "execution_count": null,
   "id": "outside-collapse",
   "metadata": {},
   "outputs": [],
   "source": [
    "graphViz(A, nodeType, relType, version, use_weights)"
   ]
  },
  {
   "cell_type": "code",
   "execution_count": null,
   "id": "level-script",
   "metadata": {},
   "outputs": [],
   "source": [
    "graphVizAbstract(A,nodeType, relType, version, use_weights)"
   ]
  },
  {
   "cell_type": "markdown",
   "id": "editorial-bangkok",
   "metadata": {},
   "source": [
    "------------------------"
   ]
  }
 ],
 "metadata": {
  "kernelspec": {
   "display_name": "Python 3",
   "language": "python",
   "name": "python3"
  },
  "language_info": {
   "codemirror_mode": {
    "name": "ipython",
    "version": 3
   },
   "file_extension": ".py",
   "mimetype": "text/x-python",
   "name": "python",
   "nbconvert_exporter": "python",
   "pygments_lexer": "ipython3",
   "version": "3.6.9"
  }
 },
 "nbformat": 4,
 "nbformat_minor": 5
}
